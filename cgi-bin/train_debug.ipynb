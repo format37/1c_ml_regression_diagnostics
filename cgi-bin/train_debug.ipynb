{
 "cells": [
  {
   "cell_type": "code",
   "execution_count": 1,
   "metadata": {},
   "outputs": [],
   "source": [
    "import pandas as pd\n",
    "import numpy as np\n",
    "from catboost import CatBoostRegressor, Pool\n",
    "from catboost.utils import eval_metric\n",
    "from sklearn.model_selection import train_test_split\n",
    "import time"
   ]
  },
  {
   "cell_type": "code",
   "execution_count": 2,
   "metadata": {},
   "outputs": [],
   "source": [
    "modelName=\"/home/alex/projects/1c_ml_regression_diagnostics/cgi-bin/prod_ml_duration_master\"\n",
    "#in_iter_count=\n",
    "#in_learning_rate=\n",
    "#in_depth=\n",
    "in_data_file=\"/home/alex/projects/1c_ml_regression_diagnostics/cgi-bin/data/master_train_data.csv\"\n",
    "cat_features=\"field_1,field_2,field_3,field_4,field_5,field_6,field_8,field_11,field_12,field_13\"\n",
    "if len(cat_features)==0:\n",
    "    cat_features\t= None\n",
    "else:\n",
    "    cat_features\t= cat_features.split(',')\n",
    "target='field_0'"
   ]
  },
  {
   "cell_type": "code",
   "execution_count": 3,
   "metadata": {},
   "outputs": [],
   "source": [
    "data_source = pd.read_csv(in_data_file)"
   ]
  },
  {
   "cell_type": "code",
   "execution_count": 4,
   "metadata": {},
   "outputs": [],
   "source": [
    "fields_count=max(data_source['field'])+1\n",
    "columns=tuple('field_'+str(i) for i in range(0,int(fields_count)))\n",
    "data = pd.DataFrame([])\n",
    "for row in range (0,max(data_source['row'])+1):\n",
    "    temp=pd.DataFrame(data_source[data_source.row==row]['value']).transpose()\n",
    "    temp.columns=columns\n",
    "    data = data.append(temp,ignore_index = True)\n",
    "\n",
    "data.sort_values(['field_0'], inplace=True)\n",
    "data.reset_index(drop=True, inplace=True)\n",
    "data.fillna(0,inplace=True)\n",
    "data=data.sample(n=len(data))"
   ]
  },
  {
   "cell_type": "code",
   "execution_count": 5,
   "metadata": {},
   "outputs": [],
   "source": [
    "content=\"\"\n",
    "X=data.drop('field_0', axis=1)\n",
    "y=data.field_0\n",
    "X_train, X_validation, y_train, y_validation = train_test_split(X, y, train_size=0.75, random_state=42)\t\t\t\n",
    "content+='y: '+str(len(y))+'\\n'\n",
    "content+='y_train: '+str(len(y_train))+'\\n'\n",
    "content+='y_validation: '+str(len(y_validation))+'\\n'\n",
    "\n",
    "#X_test = test_df.drop('field_0', axis=1)\n",
    "eval_dataset = Pool(data=X_validation,\n",
    "        label=y_validation,\n",
    "        cat_features=cat_features)"
   ]
  },
  {
   "cell_type": "code",
   "execution_count": 7,
   "metadata": {},
   "outputs": [],
   "source": [
    "content = \"\"\n",
    "model1 = CatBoostRegressor(\n",
    "                cat_features=cat_features,\n",
    "                boost_from_average=True,\n",
    "                score_function = 'NewtonL2',\n",
    "                one_hot_max_size = 512,\n",
    "                depth = 16,\n",
    "                langevin = True,\n",
    "                posterior_sampling=True,\n",
    "                model_shrink_rate = 1/(2*len(y_train)),\n",
    "                verbose=False\n",
    "                )"
   ]
  },
  {
   "cell_type": "code",
   "execution_count": null,
   "metadata": {},
   "outputs": [],
   "source": [
    "content = \"\"\n",
    "model1 = CatBoostRegressor(\n",
    "    cat_features=cat_features,\n",
    "    depth = 16,\n",
    "    boost_from_average=True,\n",
    "    score_function = 'NewtonL2',\n",
    "    one_hot_max_size = 512,\n",
    "    langevin = True,\n",
    "    posterior_sampling=True,\n",
    "    model_shrink_rate = 1/(2*len(y_train)),\n",
    "    verbose=True    \n",
    "    #diffusion_temperature = len(y_train)\n",
    "    )"
   ]
  },
  {
   "cell_type": "code",
   "execution_count": 8,
   "metadata": {},
   "outputs": [
    {
     "data": {
      "text/plain": [
       "\"{'boost_from_average': True, 'posterior_sampling': True, 'langevin': True, 'model_shrink_rate': 0.0019305019305019305, 'score_function': 'NewtonL2', 'cat_features': ['field_1', 'field_2', 'field_3', 'field_4', 'field_5', 'field_6', 'field_8', 'field_11', 'field_12', 'field_13'], 'one_hot_max_size': 512, 'verbose': False, 'loss_function': 'RMSE', 'depth': 16}\\n\\nRMSE loss: [1587.5398250512176]\\nFitted: True\\nModel score:\\n0.5480719100583147\""
      ]
     },
     "execution_count": 8,
     "metadata": {},
     "output_type": "execute_result"
    }
   ],
   "source": [
    "#model1.fit(X_train, y_train)\n",
    "model1.fit(X_train, y_train,use_best_model = True,eval_set=eval_dataset)\n",
    "pred = model1.predict(X_validation)\t\t\t\n",
    "params = model1.get_params()\n",
    "content+=str(params)+'\\n'\n",
    "content+='\\n'+params['loss_function']+' loss: '+ str(eval_metric(y_validation.to_numpy(), pred, params['loss_function']))\n",
    "content+='\\nFitted: '+str(model1.is_fitted())\n",
    "content+='\\nModel score:\\n'+str(model1.score(X,y))\n",
    "content"
   ]
  },
  {
   "cell_type": "code",
   "execution_count": null,
   "metadata": {},
   "outputs": [],
   "source": [
    "content"
   ]
  },
  {
   "cell_type": "code",
   "execution_count": null,
   "metadata": {},
   "outputs": [],
   "source": [
    "content"
   ]
  },
  {
   "cell_type": "code",
   "execution_count": null,
   "metadata": {},
   "outputs": [],
   "source": [
    "content"
   ]
  }
 ],
 "metadata": {
  "kernelspec": {
   "display_name": "Python 3",
   "language": "python",
   "name": "python3"
  },
  "language_info": {
   "codemirror_mode": {
    "name": "ipython",
    "version": 3
   },
   "file_extension": ".py",
   "mimetype": "text/x-python",
   "name": "python",
   "nbconvert_exporter": "python",
   "pygments_lexer": "ipython3",
   "version": "3.6.9"
  }
 },
 "nbformat": 4,
 "nbformat_minor": 4
}
