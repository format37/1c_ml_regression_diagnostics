{
 "cells": [
  {
   "cell_type": "code",
   "execution_count": 1,
   "metadata": {},
   "outputs": [],
   "source": [
    "#!/usr/bin/env python3\n",
    "import cgi\n",
    "import pymysql.cursors\n",
    "import pandas as pd\n",
    "from catboost import CatBoostRegressor"
   ]
  },
  {
   "cell_type": "code",
   "execution_count": 2,
   "metadata": {},
   "outputs": [
    {
     "data": {
      "text/plain": [
       "<catboost.core.CatBoostRegressor at 0x7fbfdeef5b38>"
      ]
     },
     "execution_count": 2,
     "metadata": {},
     "output_type": "execute_result"
    }
   ],
   "source": [
    "#modelName=\"diagostics_duration_msk_test\"\n",
    "modelName=\"prod_ml_duration\"\n",
    "model = CatBoostRegressor()\n",
    "model.load_model(modelName)"
   ]
  },
  {
   "cell_type": "code",
   "execution_count": 3,
   "metadata": {
    "scrolled": true
   },
   "outputs": [
    {
     "name": "stdout",
     "output_type": "stream",
     "text": [
      "field_1,8.64492663084138\n",
      "field_2,11.014281966869433\n",
      "field_3,12.944220116506136\n",
      "field_4,4.728466330942623\n",
      "field_5,10.313949044101133\n",
      "field_6,19.110140799703167\n",
      "field_7,4.271989360600878\n",
      "field_8,13.05662853864976\n",
      "field_9,3.7338163459414653\n",
      "field_10,4.997135985378062\n",
      "field_11,7.098640357191902\n",
      "field_12,0.08580452327418712\n",
      "field_13,0.0\n"
     ]
    }
   ],
   "source": [
    "fi=[i for i in model.get_feature_importance(type=\"FeatureImportance\")]\n",
    "for i in range(len(fi)):\n",
    "    print('field_'+str(i+1)+','+str(fi[i]))\n",
    "#print(model.get_feature_importance(type=\"ShapValues\"))\n",
    "#print(model.get_feature_importance(type=\"Interaction\"))\n",
    "#print(model.get_feature_importance(type=\"PredictionDiff\"))"
   ]
  },
  {
   "cell_type": "code",
   "execution_count": null,
   "metadata": {},
   "outputs": [],
   "source": []
  }
 ],
 "metadata": {
  "kernelspec": {
   "display_name": "Python 3",
   "language": "python",
   "name": "python3"
  },
  "language_info": {
   "codemirror_mode": {
    "name": "ipython",
    "version": 3
   },
   "file_extension": ".py",
   "mimetype": "text/x-python",
   "name": "python",
   "nbconvert_exporter": "python",
   "pygments_lexer": "ipython3",
   "version": "3.6.8"
  }
 },
 "nbformat": 4,
 "nbformat_minor": 2
}
